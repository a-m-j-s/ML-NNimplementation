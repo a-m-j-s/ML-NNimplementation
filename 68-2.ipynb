{
  "nbformat": 4,
  "nbformat_minor": 0,
  "metadata": {
    "colab": {
      "name": "68.ipynb",
      "version": "0.3.2",
      "provenance": [],
      "collapsed_sections": []
    },
    "kernelspec": {
      "name": "python3",
      "display_name": "Python 3"
    },
    "accelerator": "GPU"
  },
  "cells": [
    {
      "cell_type": "code",
      "metadata": {
        "id": "8G11u9kZ3-04",
        "colab_type": "code",
        "outputId": "43174088-e11d-4528-e4b2-037dffd511ec",
        "colab": {
          "base_uri": "https://localhost:8080/",
          "height": 34
        }
      },
      "source": [
        "import pandas as pd\n",
        "import numpy as np\n",
        "import os\n",
        "import random\n",
        "import keras\n",
        "import matplotlib.pyplot as plt\n",
        "from keras.layers import Dense,GlobalAveragePooling2D\n",
        "from keras.applications import MobileNet\n",
        "from keras.preprocessing import image\n",
        "from keras.applications.mobilenet import preprocess_input\n",
        "from keras.preprocessing.image import ImageDataGenerator\n",
        "from keras.models import Model\n",
        "from keras.optimizers import Adam\n",
        "from keras.callbacks import EarlyStopping\n",
        "from keras.regularizers import l1 , l2\n",
        "\n",
        "import os\n",
        "import numpy as np\n",
        "import shutil\n",
        "import random\n"
      ],
      "execution_count": 5,
      "outputs": [
        {
          "output_type": "stream",
          "text": [
            "Using TensorFlow backend.\n"
          ],
          "name": "stderr"
        }
      ]
    },
    {
      "cell_type": "code",
      "metadata": {
        "id": "pP4bQTyL3r6n",
        "colab_type": "code",
        "outputId": "83c9abdd-04bc-4f4e-b992-fbf08a82a7e9",
        "colab": {
          "base_uri": "https://localhost:8080/",
          "height": 122
        }
      },
      "source": [
        "#this section of code downloads the dataset from kaggle\n",
        "\n",
        "!pip install -U -q kaggle\n",
        "!mkdir -p ~/.kaggle\n",
        "!cp kaggle.json ~/.kaggle/\n",
        "!kaggle datasets download -d moltean/fruits\n",
        "!ls"
      ],
      "execution_count": 0,
      "outputs": [
        {
          "output_type": "stream",
          "text": [
            "Warning: Your Kaggle API key is readable by other users on this system! To fix this, you can run 'chmod 600 /root/.kaggle/kaggle.json'\n",
            "Downloading fruits.zip to /content\n",
            " 99% 676M/684M [00:26<00:00, 33.7MB/s]\n",
            "100% 684M/684M [00:26<00:00, 27.1MB/s]\n",
            "fruits.zip  kaggle.json  sample_data\n"
          ],
          "name": "stdout"
        }
      ]
    },
    {
      "cell_type": "code",
      "metadata": {
        "id": "VS-RqDLB3xcc",
        "colab_type": "code",
        "outputId": "d21e2549-28f6-47f5-d0af-55640f69fca9",
        "colab": {
          "base_uri": "https://localhost:8080/",
          "height": 34
        }
      },
      "source": [
        "#Unzips the data\n",
        "\n",
        "!unzip -q \"fruits.zip\"\n",
        "!ls"
      ],
      "execution_count": 0,
      "outputs": [
        {
          "output_type": "stream",
          "text": [
            "fruits-360  fruits.zip\tkaggle.json  sample_data\n"
          ],
          "name": "stdout"
        }
      ]
    },
    {
      "cell_type": "code",
      "metadata": {
        "id": "dgJECXYE30Oo",
        "colab_type": "code",
        "outputId": "0b68d8b7-e90f-412c-f8f5-306d7a0eb314",
        "colab": {
          "base_uri": "https://localhost:8080/",
          "height": 51
        }
      },
      "source": [
        "#Creats the Fiolders for the new dataset with 4 classes, apple, orange, lemon and pear\n",
        "#The dataset will be divided into train validation and test set.\n",
        "\n",
        "!rm -r NewDataSet\n",
        "!mkdir NewDataSet\n",
        "!mkdir NewDataSet/Train\n",
        "!mkdir NewDataSet/Test\n",
        "!mkdir NewDataSet/Validation\n",
        "!mkdir NewDataSet/Train/Apple\n",
        "!mkdir NewDataSet/Train/Lemon\n",
        "!mkdir NewDataSet/Train/Orange\n",
        "!mkdir NewDataSet/Train/Pear\n",
        "!mkdir NewDataSet/Test/Apple\n",
        "!mkdir NewDataSet/Test/Lemon\n",
        "!mkdir NewDataSet/Test/Orange\n",
        "!mkdir NewDataSet/Test/Pear\n",
        "!mkdir NewDataSet/Validation/Apple\n",
        "!mkdir NewDataSet/Validation/Lemon\n",
        "!mkdir NewDataSet/Validation/Orange\n",
        "!mkdir NewDataSet/Validation/Pear\n",
        "\n",
        "\n",
        "!ls"
      ],
      "execution_count": 0,
      "outputs": [
        {
          "output_type": "stream",
          "text": [
            "rm: cannot remove 'NewDataSet': No such file or directory\n",
            "fruits-360  fruits.zip\tkaggle.json  NewDataSet  sample_data\n"
          ],
          "name": "stdout"
        }
      ]
    },
    {
      "cell_type": "code",
      "metadata": {
        "id": "eHhmonFo32r_",
        "colab_type": "code",
        "outputId": "5123127f-234d-401b-dd1d-23a045e04dbf",
        "colab": {
          "base_uri": "https://localhost:8080/",
          "height": 231
        }
      },
      "source": [
        "#Copies the images from the training folder of the kaggle dataset into the folders\n",
        "#of the new dataset\n",
        "\n",
        "\n",
        "#Creates a list of the directories inside the training folder and sortes them \n",
        "#alphabetically\n",
        "list_dir = os.listdir('fruits-360/Training')\n",
        "directories=sorted(list_dir)\n",
        "\n",
        "#Function that receives the fruit, percentage of data that we want to copy, and\n",
        "#first and last folder we want to copy from, and copys a certain percentge of the images\n",
        "#into the new folder\n",
        "#it´s not random to make sure we get images from every view\n",
        "def train_fruit(fruit, percentage, begin, end):\n",
        "  for i in range(begin,end):\n",
        "    allFiles = os.listdir('fruits-360/Training/'+directories[i]) \n",
        "    allFiles=sorted(allFiles)\n",
        " \n",
        "    for ii in range(0, len(allFiles),int(1/percentage)):\n",
        "      s='fruits-360/Training/' + directories[i]+ '/'+ allFiles[ii]\n",
        "      d='NewDataSet/Train/'+fruit+'/'+str(i)+allFiles[ii]\n",
        "      shutil.copyfile(s,d)\n",
        "      \n",
        "\n",
        "train_fruit(\"Apple\", 1, 0,12)\n",
        "train_fruit(\"Lemon\", 1, 49,50 )\n",
        "train_fruit(\"Orange\",1, 60,61 )\n",
        "train_fruit(\"Pear\", 1, 66,71)\n"
      ],
      "execution_count": 0,
      "outputs": [
        {
          "output_type": "error",
          "ename": "NameError",
          "evalue": "ignored",
          "traceback": [
            "\u001b[0;31m---------------------------------------------------------------------------\u001b[0m",
            "\u001b[0;31mNameError\u001b[0m                                 Traceback (most recent call last)",
            "\u001b[0;32m<ipython-input-1-eb9517022286>\u001b[0m in \u001b[0;36m<module>\u001b[0;34m()\u001b[0m\n\u001b[0;32m----> 1\u001b[0;31m \u001b[0mlist_dir\u001b[0m \u001b[0;34m=\u001b[0m \u001b[0mos\u001b[0m\u001b[0;34m.\u001b[0m\u001b[0mlistdir\u001b[0m\u001b[0;34m(\u001b[0m\u001b[0;34m'fruits-360/Training'\u001b[0m\u001b[0;34m)\u001b[0m\u001b[0;34m\u001b[0m\u001b[0;34m\u001b[0m\u001b[0m\n\u001b[0m\u001b[1;32m      2\u001b[0m \u001b[0mdirectories\u001b[0m\u001b[0;34m=\u001b[0m\u001b[0msorted\u001b[0m\u001b[0;34m(\u001b[0m\u001b[0mlist_dir\u001b[0m\u001b[0;34m)\u001b[0m\u001b[0;34m\u001b[0m\u001b[0;34m\u001b[0m\u001b[0m\n\u001b[1;32m      3\u001b[0m \u001b[0;34m\u001b[0m\u001b[0m\n\u001b[1;32m      4\u001b[0m \u001b[0;31m#Function that receives the fruit, percentage of data that we want to copy, and\u001b[0m\u001b[0;34m\u001b[0m\u001b[0;34m\u001b[0m\u001b[0;34m\u001b[0m\u001b[0m\n\u001b[1;32m      5\u001b[0m \u001b[0;31m#first and last folder we want to copy from, and copys a certain percentge of the images\u001b[0m\u001b[0;34m\u001b[0m\u001b[0;34m\u001b[0m\u001b[0;34m\u001b[0m\u001b[0m\n",
            "\u001b[0;31mNameError\u001b[0m: name 'os' is not defined"
          ]
        }
      ]
    },
    {
      "cell_type": "code",
      "metadata": {
        "id": "NclZKakR38zn",
        "colab_type": "code",
        "colab": {}
      },
      "source": [
        "#Moves a certaing percentage of the training set images the validation folder\n",
        "\n",
        "  \n",
        "#function that receives the name of the fruit and the percentage of the taining \n",
        "#set to used for validation and moves the images acording to those parameters\n",
        "  def validation_fruit(fruit, percentage):\n",
        "    allFiles = os.listdir('NewDataSet/Train/'+fruit) \n",
        "    allFiles=sorted(allFiles)\n",
        "    a=int(len(allFiles)*percentage)\n",
        "    r=random.sample(range(1, len(allFiles)), a)\n",
        "\n",
        "    for i in range(0,len(r)):\n",
        "        s='NewDataSet/Train/'+fruit+'/'+allFiles[r[i]]\n",
        "        d='NewDataSet/Validation/'+fruit+'/'+str(i)+allFiles[r[i]]\n",
        "        if os.path.exists(s):\n",
        "          shutil.move(s,d)\n",
        "      \n",
        "validation_fruit(\"Apple\",0.25)\n",
        "validation_fruit(\"Lemon\",0.25)\n",
        "validation_fruit(\"Orange\",0.25)\n",
        "validation_fruit(\"Pear\",0.25)\n",
        "      "
      ],
      "execution_count": 0,
      "outputs": []
    },
    {
      "cell_type": "code",
      "metadata": {
        "id": "7Mqf9iHFiXpC",
        "colab_type": "code",
        "colab": {}
      },
      "source": [
        "#Copies the images from the test folder of the kaggle dataset into the folders\n",
        "#of the new dataset\n",
        "\n",
        "\n",
        "#Creates a list of the directories inside the test folder and sortes them \n",
        "#alphabetically\n",
        "list_dir = os.listdir('fruits-360/Test')\n",
        "directories=sorted(list_dir)\n",
        "\n",
        "#Function that receives the fruit, percentage of data that we want to copy, and\n",
        "#first and last folder we want to copy from, and copys a certain percentge of the images\n",
        "#into the new folder\n",
        "#it´s not random to make sure we get images from every view\n",
        "def train_fruit(fruit, percentage, begin, end):\n",
        "  for i in range(begin,end):\n",
        "    allFiles = os.listdir('fruits-360/Test/'+directories[i]) \n",
        "    allFiles=sorted(allFiles)\n",
        " \n",
        "    for ii in range(0, len(allFiles),int(1/percentage)):\n",
        "      s='fruits-360/Test/' + directories[i]+ '/'+ allFiles[ii]\n",
        "      d='NewDataSet/Test/'+fruit+'/'+str(i)+allFiles[ii]\n",
        "      shutil.copyfile(s,d)\n",
        "      \n",
        "\n",
        "train_fruit(\"Apple\", 1, 0,12)\n",
        "train_fruit(\"Lemon\", 1, 49,50 )\n",
        "train_fruit(\"Orange\",1, 60,61 )\n",
        "train_fruit(\"Pear\", 1, 66,71)"
      ],
      "execution_count": 0,
      "outputs": []
    },
    {
      "cell_type": "code",
      "metadata": {
        "id": "AexIGICF_Ltn",
        "colab_type": "code",
        "outputId": "da9c166b-e109-4ed9-abf7-815ca8b115cf",
        "colab": {
          "base_uri": "https://localhost:8080/",
          "height": 68
        }
      },
      "source": [
        "#formating the training, validation and test sets\n",
        "#we use ImageDataGenerator to fetch data and feed it to our network\n",
        "\n",
        "train_data_dir=\"NewDataSet/Train\"\n",
        "validation_data_dir=\"NewDataSet/Validation\"\n",
        "test_data_dir=\"NewDataSet/Test\"\n",
        "\n",
        "batch_size=32\n",
        "\n",
        "\n",
        "train_datagen=ImageDataGenerator(preprocessing_function=preprocess_input) \n",
        "train_generator=train_datagen.flow_from_directory(train_data_dir,\n",
        "                                                 target_size=(224,224),\n",
        "                                                 color_mode='rgb',\n",
        "                                                 batch_size=batch_size,\n",
        "                                                 class_mode='categorical',\n",
        "                                                 shuffle=True)\n",
        "validation_generator=train_datagen.flow_from_directory(validation_data_dir,\n",
        "                                                 target_size=(224,224),\n",
        "                                                 color_mode='rgb',\n",
        "                                                 batch_size=batch_size,\n",
        "                                                 class_mode='categorical',\n",
        "                                                 shuffle=True)\n",
        "test_generator=train_datagen.flow_from_directory(test_data_dir,\n",
        "                                                 target_size=(224,224),\n",
        "                                                 color_mode='rgb',\n",
        "                                                 batch_size=batch_size,\n",
        "                                                 class_mode='categorical',\n",
        "                                                 shuffle=True)\n",
        "\n"
      ],
      "execution_count": 6,
      "outputs": [
        {
          "output_type": "stream",
          "text": [
            "Found 6863 images belonging to 4 classes.\n",
            "Found 2286 images belonging to 4 classes.\n",
            "Found 3039 images belonging to 4 classes.\n"
          ],
          "name": "stdout"
        }
      ]
    },
    {
      "cell_type": "code",
      "metadata": {
        "id": "rAqsfu6A_RC9",
        "colab_type": "code",
        "colab": {}
      },
      "source": [
        "#keras.applications.mobilenet.MobileNet(input_shape=None, alpha=1.0, depth_multiplier=1, dropout=1e-3, include_top=True, weights='imagenet', input_tensor=None, pooling=None, classes=1000)\n",
        "#keras.layers.Dense(units, activation=None, use_bias=True, kernel_initializer='glorot_uniform', bias_initializer='zeros', kernel_regularizer=None, bias_regularizer=None, activity_regularizer=None, kernel_constraint=None, bias_constraint=None)\n",
        "\n",
        "#Build the model trains the network and calculates the loss and accuracy for the training set and validation set\n",
        "\n",
        "def func(kini, bini, kreg, breg, alphas, ep):\n",
        "\n",
        "  base_model=keras.applications.mobilenet.MobileNet(weights='imagenet',include_top=False) \n",
        "  #imports the mobilenet model and discards the last neuron layer and uses the already trained weights\n",
        "\n",
        "  x=base_model.output\n",
        "  x=GlobalAveragePooling2D()(x)\n",
        "  x=Dense(1024,activation='relu',kernel_initializer=kini, bias_initializer=bini, kernel_regularizer=kreg, bias_regularizer=breg )(x) #we add dense layers so that the model can learn more complex functions and classify for better results.\n",
        "  x=Dense(1024,activation='relu',kernel_initializer=kini, bias_initializer=bini, kernel_regularizer=kreg, bias_regularizer=breg)(x) #dense layer 2\n",
        "  x=Dense(512,activation='relu',kernel_initializer=kini, bias_initializer=bini, kernel_regularizer=kreg, bias_regularizer=breg)(x) #dense layer 3\n",
        "  preds=Dense(4,activation='softmax')(x) #final layer with softmax activation and 4 classes\n",
        "  \n",
        "  model=Model(inputs=base_model.input,outputs=preds)\n",
        "  model.compile(optimizer='Adam',loss='categorical_crossentropy',metrics=['accuracy'])\n",
        "  step_size_train=train_generator.n//train_generator.batch_size\n",
        "  step_size_validation=validation_generator.n//train_generator.batch_size\n",
        "  model.fit_generator(generator=train_generator,\n",
        "                      validation_data=validation_generator,\n",
        "                      validation_steps=step_size_validation,\n",
        "                      steps_per_epoch=step_size_train,\n",
        "                      epochs=ep,\n",
        "                      callbacks=[EarlyStopping(monitor='val_loss', min_delta=0, patience=3, verbose=0, mode='auto', baseline=None, restore_best_weights=True)]\n",
        "                     )\n",
        "  "
      ],
      "execution_count": 0,
      "outputs": []
    },
    {
      "cell_type": "code",
      "metadata": {
        "id": "Oi9Na_4gvUj3",
        "colab_type": "code",
        "colab": {}
      },
      "source": [
        "def func1(kini, bini, kreg, breg, alphas, ep):\n",
        "\n",
        "  base_model=keras.applications.mobilenet.MobileNet(weights='imagenet',include_top=False) \n",
        "  #imports the mobilenet model and discards the last neuron layer and uses the already trained weights\n",
        "\n",
        "  x=base_model.output\n",
        "  x=GlobalAveragePooling2D()(x)\n",
        "  x=Dense(1024,activation='relu',kernel_initializer=kini, bias_initializer=bini, kernel_regularizer=kreg, bias_regularizer=breg )(x) #we add dense layers so that the model can learn more complex functions and classify for better results.\n",
        "  preds=Dense(4,activation='softmax')(x) #final layer with softmax activation and 4 classes\n",
        "  \n",
        "  model=Model(inputs=base_model.input,outputs=preds)\n",
        "  model.compile(optimizer='Adam',loss='categorical_crossentropy',metrics=['accuracy'])\n",
        "  step_size_train=train_generator.n//train_generator.batch_size\n",
        "  step_size_validation=validation_generator.n//train_generator.batch_size\n",
        "  model.fit_generator(generator=train_generator,\n",
        "                      validation_data=validation_generator,\n",
        "                      validation_steps=step_size_validation,\n",
        "                      steps_per_epoch=step_size_train,\n",
        "                      epochs=ep,\n",
        "                      callbacks=[EarlyStopping(monitor='val_loss', min_delta=0, patience=3, verbose=0, mode='auto', baseline=None, restore_best_weights=True)]\n",
        "                     )\n",
        "  "
      ],
      "execution_count": 0,
      "outputs": []
    },
    {
      "cell_type": "code",
      "metadata": {
        "id": "AKUeTRvKwp5u",
        "colab_type": "code",
        "colab": {}
      },
      "source": [
        "def func6(kini, bini, kreg, breg, alphas, ep):\n",
        "\n",
        "  base_model=keras.applications.mobilenet.MobileNet(weights='imagenet',include_top=False) \n",
        "  #imports the mobilenet model and discards the last neuron layer and uses the already trained weights\n",
        "\n",
        "  x=base_model.output\n",
        "  x=GlobalAveragePooling2D()(x)\n",
        "  x=Dense(1024,activation='relu',kernel_initializer=kini, bias_initializer=bini, kernel_regularizer=kreg, bias_regularizer=breg )(x) #we add dense layers so that the model can learn more complex functions and classify for better results.\n",
        "  x=Dense(1024,activation='relu',kernel_initializer=kini, bias_initializer=bini, kernel_regularizer=kreg, bias_regularizer=breg )(x) #we add dense layers so that the model can learn more complex functions and classify for better results.\n",
        "  x=Dense(1024,activation='relu',kernel_initializer=kini, bias_initializer=bini, kernel_regularizer=kreg, bias_regularizer=breg )(x) #we add dense layers so that the model can learn more complex functions and classify for better results.\n",
        "  x=Dense(1024,activation='relu',kernel_initializer=kini, bias_initializer=bini, kernel_regularizer=kreg, bias_regularizer=breg )(x) #we add dense layers so that the model can learn more complex functions and classify for better results.\n",
        "  x=Dense(1024,activation='relu',kernel_initializer=kini, bias_initializer=bini, kernel_regularizer=kreg, bias_regularizer=breg )(x) #we add dense layers so that the model can learn more complex functions and classify for better results.\n",
        "  x=Dense(512,activation='relu',kernel_initializer=kini, bias_initializer=bini, kernel_regularizer=kreg, bias_regularizer=breg )(x) #we add dense layers so that the model can learn more complex functions and classify for better results.\n",
        "  preds=Dense(4,activation='softmax')(x) #final layer with softmax activation and 4 classes\n",
        "  \n",
        "  model=Model(inputs=base_model.input,outputs=preds)\n",
        "  model.compile(optimizer='Adam',loss='categorical_crossentropy',metrics=['accuracy'])\n",
        "  step_size_train=train_generator.n//train_generator.batch_size\n",
        "  step_size_validation=validation_generator.n//train_generator.batch_size\n",
        "  model.fit_generator(generator=train_generator,\n",
        "                      validation_data=validation_generator,\n",
        "                      validation_steps=step_size_validation,\n",
        "                      steps_per_epoch=step_size_train,\n",
        "                      epochs=ep,\n",
        "                      callbacks=[EarlyStopping(monitor='val_loss', min_delta=0, patience=3, verbose=0, mode='auto', baseline=None, restore_best_weights=True)]\n",
        "                     )\n",
        "  "
      ],
      "execution_count": 0,
      "outputs": []
    },
    {
      "cell_type": "code",
      "metadata": {
        "id": "cEaieOHR1wHq",
        "colab_type": "code",
        "outputId": "89e0bf46-65cb-4c2e-8856-ac2542f69baa",
        "colab": {
          "base_uri": "https://localhost:8080/",
          "height": 391
        }
      },
      "source": [
        "func('glorot_uniform', 'zeros', None , None,1,20)"
      ],
      "execution_count": 0,
      "outputs": [
        {
          "output_type": "stream",
          "text": [
            "WARNING:tensorflow:From /usr/local/lib/python3.6/dist-packages/tensorflow/python/framework/op_def_library.py:263: colocate_with (from tensorflow.python.framework.ops) is deprecated and will be removed in a future version.\n",
            "Instructions for updating:\n",
            "Colocations handled automatically by placer.\n"
          ],
          "name": "stdout"
        },
        {
          "output_type": "stream",
          "text": [
            "/usr/local/lib/python3.6/dist-packages/keras_applications/mobilenet.py:208: UserWarning: MobileNet shape is undefined. Weights for input shape (224, 224) will be loaded.\n",
            "  warnings.warn('MobileNet shape is undefined.'\n"
          ],
          "name": "stderr"
        },
        {
          "output_type": "stream",
          "text": [
            "WARNING:tensorflow:From /usr/local/lib/python3.6/dist-packages/tensorflow/python/ops/math_ops.py:3066: to_int32 (from tensorflow.python.ops.math_ops) is deprecated and will be removed in a future version.\n",
            "Instructions for updating:\n",
            "Use tf.cast instead.\n",
            "Epoch 1/20\n",
            "214/214 [==============================] - 61s 286ms/step - loss: 0.1059 - acc: 0.9701 - val_loss: 1.5561 - val_acc: 0.8706\n",
            "Epoch 2/20\n",
            "214/214 [==============================] - 53s 246ms/step - loss: 0.0883 - acc: 0.9804 - val_loss: 1.0983 - val_acc: 0.8421\n",
            "Epoch 3/20\n",
            "214/214 [==============================] - 52s 244ms/step - loss: 0.0458 - acc: 0.9877 - val_loss: 0.3292 - val_acc: 0.9441\n",
            "Epoch 4/20\n",
            "214/214 [==============================] - 52s 244ms/step - loss: 0.0073 - acc: 0.9987 - val_loss: 9.9648e-07 - val_acc: 1.0000\n",
            "Epoch 5/20\n",
            "214/214 [==============================] - 52s 243ms/step - loss: 0.0092 - acc: 0.9991 - val_loss: 1.8208e-05 - val_acc: 1.0000\n",
            "Epoch 6/20\n",
            "214/214 [==============================] - 52s 243ms/step - loss: 0.0584 - acc: 0.9860 - val_loss: 0.0250 - val_acc: 0.9911\n",
            "Epoch 7/20\n",
            "214/214 [==============================] - 52s 244ms/step - loss: 0.0477 - acc: 0.9917 - val_loss: 0.0146 - val_acc: 0.9991\n"
          ],
          "name": "stdout"
        }
      ]
    },
    {
      "cell_type": "code",
      "metadata": {
        "id": "g0TIzo8Jw_Bp",
        "colab_type": "code",
        "outputId": "b797b390-4905-472e-bee8-827e3ea4a03d",
        "colab": {
          "base_uri": "https://localhost:8080/",
          "height": 377
        }
      },
      "source": [
        "func6('glorot_uniform', 'zeros', None , None,1,20)"
      ],
      "execution_count": 0,
      "outputs": [
        {
          "output_type": "stream",
          "text": [
            "WARNING:tensorflow:From /usr/local/lib/python3.6/dist-packages/tensorflow/python/framework/op_def_library.py:263: colocate_with (from tensorflow.python.framework.ops) is deprecated and will be removed in a future version.\n",
            "Instructions for updating:\n",
            "Colocations handled automatically by placer.\n"
          ],
          "name": "stdout"
        },
        {
          "output_type": "stream",
          "text": [
            "/usr/local/lib/python3.6/dist-packages/keras_applications/mobilenet.py:208: UserWarning: MobileNet shape is undefined. Weights for input shape (224, 224) will be loaded.\n",
            "  warnings.warn('MobileNet shape is undefined.'\n"
          ],
          "name": "stderr"
        },
        {
          "output_type": "stream",
          "text": [
            "Downloading data from https://github.com/fchollet/deep-learning-models/releases/download/v0.6/mobilenet_1_0_224_tf_no_top.h5\n",
            "17227776/17225924 [==============================] - 0s 0us/step\n",
            "WARNING:tensorflow:From /usr/local/lib/python3.6/dist-packages/tensorflow/python/ops/math_ops.py:3066: to_int32 (from tensorflow.python.ops.math_ops) is deprecated and will be removed in a future version.\n",
            "Instructions for updating:\n",
            "Use tf.cast instead.\n",
            "Epoch 1/20\n",
            "214/214 [==============================] - 59s 277ms/step - loss: 0.2326 - acc: 0.9011 - val_loss: 1.0260 - val_acc: 0.9010\n",
            "Epoch 2/20\n",
            "214/214 [==============================] - 51s 237ms/step - loss: 0.1155 - acc: 0.9607 - val_loss: 0.0285 - val_acc: 0.9942\n",
            "Epoch 3/20\n",
            "214/214 [==============================] - 51s 237ms/step - loss: 0.4650 - acc: 0.9039 - val_loss: 1.4397 - val_acc: 0.6513\n",
            "Epoch 4/20\n",
            "214/214 [==============================] - 51s 239ms/step - loss: 0.1520 - acc: 0.9388 - val_loss: 0.1572 - val_acc: 0.9450\n",
            "Epoch 5/20\n",
            "214/214 [==============================] - 51s 240ms/step - loss: 0.3331 - acc: 0.9530 - val_loss: 5.9495 - val_acc: 0.6309\n"
          ],
          "name": "stdout"
        }
      ]
    },
    {
      "cell_type": "code",
      "metadata": {
        "id": "oMyiaq4WASaj",
        "colab_type": "code",
        "colab": {
          "base_uri": "https://localhost:8080/",
          "height": 411
        },
        "outputId": "748da90d-d340-43c6-c849-4e74f759f1fe"
      },
      "source": [
        "func1('glorot_uniform', 'zeros', None , None,1,20)"
      ],
      "execution_count": 15,
      "outputs": [
        {
          "output_type": "stream",
          "text": [
            "/usr/local/lib/python3.6/dist-packages/keras_applications/mobilenet.py:208: UserWarning: MobileNet shape is undefined. Weights for input shape (224, 224) will be loaded.\n",
            "  warnings.warn('MobileNet shape is undefined.'\n"
          ],
          "name": "stderr"
        },
        {
          "output_type": "stream",
          "text": [
            "Epoch 1/20\n",
            "214/214 [==============================] - 62s 289ms/step - loss: 0.0867 - acc: 0.9779 - val_loss: 3.3297 - val_acc: 0.5775\n",
            "Epoch 2/20\n",
            "214/214 [==============================] - 52s 244ms/step - loss: 0.0260 - acc: 0.9911 - val_loss: 0.0583 - val_acc: 0.9902\n",
            "Epoch 3/20\n",
            "214/214 [==============================] - 52s 242ms/step - loss: 0.0067 - acc: 0.9984 - val_loss: 4.8710e-04 - val_acc: 1.0000\n",
            "Epoch 4/20\n",
            "214/214 [==============================] - 52s 243ms/step - loss: 0.0288 - acc: 0.9918 - val_loss: 0.0684 - val_acc: 0.9791\n",
            "Epoch 5/20\n",
            "214/214 [==============================] - 52s 242ms/step - loss: 0.0061 - acc: 0.9982 - val_loss: 7.3497e-05 - val_acc: 1.0000\n",
            "Epoch 6/20\n",
            "214/214 [==============================] - 52s 243ms/step - loss: 7.8273e-05 - acc: 1.0000 - val_loss: 1.9603e-06 - val_acc: 1.0000\n",
            "Epoch 7/20\n",
            "214/214 [==============================] - 52s 243ms/step - loss: 1.9827e-05 - acc: 1.0000 - val_loss: 6.6614e-07 - val_acc: 1.0000\n",
            "Epoch 8/20\n",
            "214/214 [==============================] - 52s 244ms/step - loss: 1.9372e-05 - acc: 1.0000 - val_loss: 7.1840e-07 - val_acc: 1.0000\n",
            "Epoch 9/20\n",
            "214/214 [==============================] - 52s 243ms/step - loss: 0.0666 - acc: 0.9836 - val_loss: 0.8338 - val_acc: 0.8975\n",
            "Epoch 10/20\n",
            "214/214 [==============================] - 52s 243ms/step - loss: 0.0147 - acc: 0.9966 - val_loss: 8.3828e-07 - val_acc: 1.0000\n"
          ],
          "name": "stdout"
        }
      ]
    },
    {
      "cell_type": "code",
      "metadata": {
        "id": "4KdTAOaQAUkE",
        "colab_type": "code",
        "colab": {
          "base_uri": "https://localhost:8080/",
          "height": 513
        },
        "outputId": "5725b878-d1a3-44b2-8989-556210b8547d"
      },
      "source": [
        "func1('zero', 'zeros', None , None,1,20)"
      ],
      "execution_count": 16,
      "outputs": [
        {
          "output_type": "stream",
          "text": [
            "/usr/local/lib/python3.6/dist-packages/keras_applications/mobilenet.py:208: UserWarning: MobileNet shape is undefined. Weights for input shape (224, 224) will be loaded.\n",
            "  warnings.warn('MobileNet shape is undefined.'\n"
          ],
          "name": "stderr"
        },
        {
          "output_type": "stream",
          "text": [
            "Epoch 1/20\n",
            "214/214 [==============================] - 64s 297ms/step - loss: 1.3121 - acc: 0.6279 - val_loss: 1.2451 - val_acc: 0.6278\n",
            "Epoch 2/20\n",
            "214/214 [==============================] - 51s 237ms/step - loss: 1.1928 - acc: 0.6269 - val_loss: 1.1447 - val_acc: 0.6290\n",
            "Epoch 3/20\n",
            "214/214 [==============================] - 51s 237ms/step - loss: 1.1093 - acc: 0.6279 - val_loss: 1.0774 - val_acc: 0.6278\n",
            "Epoch 4/20\n",
            "214/214 [==============================] - 51s 237ms/step - loss: 1.0541 - acc: 0.6271 - val_loss: 1.0339 - val_acc: 0.6256\n",
            "Epoch 5/20\n",
            "214/214 [==============================] - 51s 237ms/step - loss: 1.0168 - acc: 0.6280 - val_loss: 0.9989 - val_acc: 0.6304\n",
            "Epoch 6/20\n",
            "214/214 [==============================] - 50s 236ms/step - loss: 0.9957 - acc: 0.6252 - val_loss: 0.9829 - val_acc: 0.6287\n",
            "Epoch 7/20\n",
            "214/214 [==============================] - 51s 236ms/step - loss: 0.9774 - acc: 0.6306 - val_loss: 0.9838 - val_acc: 0.6216\n",
            "Epoch 8/20\n",
            "214/214 [==============================] - 50s 236ms/step - loss: 0.9728 - acc: 0.6253 - val_loss: 0.9591 - val_acc: 0.6349\n",
            "Epoch 9/20\n",
            "214/214 [==============================] - 51s 237ms/step - loss: 0.9633 - acc: 0.6271 - val_loss: 0.9708 - val_acc: 0.6220\n",
            "Epoch 10/20\n",
            "214/214 [==============================] - 51s 236ms/step - loss: 0.9596 - acc: 0.6289 - val_loss: 0.9477 - val_acc: 0.6335\n",
            "Epoch 11/20\n",
            "214/214 [==============================] - 51s 236ms/step - loss: 0.9613 - acc: 0.6265 - val_loss: 0.9692 - val_acc: 0.6238\n",
            "Epoch 12/20\n",
            "214/214 [==============================] - 50s 235ms/step - loss: 0.9595 - acc: 0.6264 - val_loss: 0.9513 - val_acc: 0.6295\n",
            "Epoch 13/20\n",
            "214/214 [==============================] - 50s 236ms/step - loss: 0.9546 - acc: 0.6300 - val_loss: 0.9656 - val_acc: 0.6229\n"
          ],
          "name": "stdout"
        }
      ]
    },
    {
      "cell_type": "code",
      "metadata": {
        "id": "OZ8du9OPCj71",
        "colab_type": "code",
        "colab": {
          "base_uri": "https://localhost:8080/",
          "height": 411
        },
        "outputId": "2e717f36-c4b0-443a-8149-6ddf9a5b4a8b"
      },
      "source": [
        "func1('ones', 'zeros', None , None,1,20)"
      ],
      "execution_count": 17,
      "outputs": [
        {
          "output_type": "stream",
          "text": [
            "/usr/local/lib/python3.6/dist-packages/keras_applications/mobilenet.py:208: UserWarning: MobileNet shape is undefined. Weights for input shape (224, 224) will be loaded.\n",
            "  warnings.warn('MobileNet shape is undefined.'\n"
          ],
          "name": "stderr"
        },
        {
          "output_type": "stream",
          "text": [
            "Epoch 1/20\n",
            "214/214 [==============================] - 65s 305ms/step - loss: 15.2731 - acc: 0.0524 - val_loss: 15.2886 - val_acc: 0.0515\n",
            "Epoch 2/20\n",
            "214/214 [==============================] - 50s 235ms/step - loss: 15.2778 - acc: 0.0521 - val_loss: 15.3029 - val_acc: 0.0506\n",
            "Epoch 3/20\n",
            "214/214 [==============================] - 50s 236ms/step - loss: 15.2749 - acc: 0.0523 - val_loss: 15.2671 - val_acc: 0.0528\n",
            "Epoch 4/20\n",
            "214/214 [==============================] - 51s 238ms/step - loss: 15.2708 - acc: 0.0526 - val_loss: 15.2600 - val_acc: 0.0532\n",
            "Epoch 5/20\n",
            "214/214 [==============================] - 51s 236ms/step - loss: 15.2822 - acc: 0.0519 - val_loss: 15.2886 - val_acc: 0.0515\n",
            "Epoch 6/20\n",
            "214/214 [==============================] - 51s 238ms/step - loss: 15.2490 - acc: 0.0539 - val_loss: 15.2886 - val_acc: 0.0515\n",
            "Epoch 7/20\n",
            "214/214 [==============================] - 51s 239ms/step - loss: 15.2755 - acc: 0.0523 - val_loss: 15.2600 - val_acc: 0.0532\n",
            "Epoch 8/20\n",
            "214/214 [==============================] - 51s 240ms/step - loss: 15.2755 - acc: 0.0523 - val_loss: 15.2886 - val_acc: 0.0515\n",
            "Epoch 9/20\n",
            "214/214 [==============================] - 51s 239ms/step - loss: 15.2987 - acc: 0.0508 - val_loss: 15.2886 - val_acc: 0.0515\n",
            "Epoch 10/20\n",
            "214/214 [==============================] - 51s 238ms/step - loss: 15.2466 - acc: 0.0541 - val_loss: 15.2671 - val_acc: 0.0528\n"
          ],
          "name": "stdout"
        }
      ]
    },
    {
      "cell_type": "code",
      "metadata": {
        "id": "tr942YL3FX3c",
        "colab_type": "code",
        "colab": {
          "base_uri": "https://localhost:8080/",
          "height": 479
        },
        "outputId": "7100152c-dfdf-4c21-e6e8-fd86392cb993"
      },
      "source": [
        "func1('RandomNormal', 'zeros', None , None,1,20)"
      ],
      "execution_count": 18,
      "outputs": [
        {
          "output_type": "stream",
          "text": [
            "/usr/local/lib/python3.6/dist-packages/keras_applications/mobilenet.py:208: UserWarning: MobileNet shape is undefined. Weights for input shape (224, 224) will be loaded.\n",
            "  warnings.warn('MobileNet shape is undefined.'\n"
          ],
          "name": "stderr"
        },
        {
          "output_type": "stream",
          "text": [
            "Epoch 1/20\n",
            "214/214 [==============================] - 70s 325ms/step - loss: 0.1027 - acc: 0.9749 - val_loss: 0.4639 - val_acc: 0.8684\n",
            "Epoch 2/20\n",
            "214/214 [==============================] - 52s 245ms/step - loss: 4.9892e-04 - acc: 0.9999 - val_loss: 0.4060 - val_acc: 0.9139\n",
            "Epoch 3/20\n",
            "214/214 [==============================] - 53s 246ms/step - loss: 0.0472 - acc: 0.9873 - val_loss: 0.1024 - val_acc: 0.9672\n",
            "Epoch 4/20\n",
            "214/214 [==============================] - 53s 246ms/step - loss: 0.0134 - acc: 0.9968 - val_loss: 0.2923 - val_acc: 0.9170\n",
            "Epoch 5/20\n",
            "214/214 [==============================] - 53s 246ms/step - loss: 0.0311 - acc: 0.9914 - val_loss: 7.3140e-06 - val_acc: 1.0000\n",
            "Epoch 6/20\n",
            "214/214 [==============================] - 53s 247ms/step - loss: 3.6680e-04 - acc: 0.9999 - val_loss: 1.4887e-06 - val_acc: 1.0000\n",
            "Epoch 7/20\n",
            "214/214 [==============================] - 53s 245ms/step - loss: 0.0069 - acc: 0.9985 - val_loss: 6.3461e-07 - val_acc: 1.0000\n",
            "Epoch 8/20\n",
            "214/214 [==============================] - 53s 247ms/step - loss: 4.4301e-05 - acc: 1.0000 - val_loss: 5.6621e-07 - val_acc: 1.0000\n",
            "Epoch 9/20\n",
            "214/214 [==============================] - 53s 246ms/step - loss: 2.0358e-05 - acc: 1.0000 - val_loss: 3.7458e-07 - val_acc: 1.0000\n",
            "Epoch 10/20\n",
            "214/214 [==============================] - 53s 246ms/step - loss: 0.0312 - acc: 0.9909 - val_loss: 0.0090 - val_acc: 0.9987\n",
            "Epoch 11/20\n",
            "214/214 [==============================] - 53s 246ms/step - loss: 4.8454e-04 - acc: 0.9999 - val_loss: 0.0019 - val_acc: 0.9987\n",
            "Epoch 12/20\n",
            "214/214 [==============================] - 53s 246ms/step - loss: 3.1599e-04 - acc: 1.0000 - val_loss: 3.8104e-06 - val_acc: 1.0000\n"
          ],
          "name": "stdout"
        }
      ]
    },
    {
      "cell_type": "code",
      "metadata": {
        "id": "-D0JANT9HpsZ",
        "colab_type": "code",
        "colab": {
          "base_uri": "https://localhost:8080/",
          "height": 241
        },
        "outputId": "9071121f-5da0-41ef-d0a2-e04e1316daec"
      },
      "source": [
        "func1('RandomUniform', 'zeros', None , None,1,20)"
      ],
      "execution_count": 19,
      "outputs": [
        {
          "output_type": "stream",
          "text": [
            "/usr/local/lib/python3.6/dist-packages/keras_applications/mobilenet.py:208: UserWarning: MobileNet shape is undefined. Weights for input shape (224, 224) will be loaded.\n",
            "  warnings.warn('MobileNet shape is undefined.'\n"
          ],
          "name": "stderr"
        },
        {
          "output_type": "stream",
          "text": [
            "Epoch 1/20\n",
            "214/214 [==============================] - 73s 339ms/step - loss: 0.1143 - acc: 0.9732 - val_loss: 0.0320 - val_acc: 0.9867\n",
            "Epoch 2/20\n",
            "214/214 [==============================] - 52s 245ms/step - loss: 0.0097 - acc: 0.9966 - val_loss: 8.5952e-06 - val_acc: 1.0000\n",
            "Epoch 3/20\n",
            "214/214 [==============================] - 52s 244ms/step - loss: 0.0284 - acc: 0.9917 - val_loss: 0.3805 - val_acc: 0.9219\n",
            "Epoch 4/20\n",
            "214/214 [==============================] - 52s 245ms/step - loss: 0.0146 - acc: 0.9959 - val_loss: 0.0018 - val_acc: 0.9987\n",
            "Epoch 5/20\n",
            "214/214 [==============================] - 52s 245ms/step - loss: 0.0104 - acc: 0.9972 - val_loss: 0.0099 - val_acc: 0.9973\n"
          ],
          "name": "stdout"
        }
      ]
    },
    {
      "cell_type": "code",
      "metadata": {
        "id": "qnYrFpIdKYo9",
        "colab_type": "code",
        "colab": {
          "base_uri": "https://localhost:8080/",
          "height": 309
        },
        "outputId": "b431724f-4730-44fe-a221-bd67a287aada"
      },
      "source": [
        "func1('glorot_uniform', 'zeros', l2(0.1), None,1,20)"
      ],
      "execution_count": 32,
      "outputs": [
        {
          "output_type": "stream",
          "text": [
            "/usr/local/lib/python3.6/dist-packages/keras_applications/mobilenet.py:208: UserWarning: MobileNet shape is undefined. Weights for input shape (224, 224) will be loaded.\n",
            "  warnings.warn('MobileNet shape is undefined.'\n"
          ],
          "name": "stderr"
        },
        {
          "output_type": "stream",
          "text": [
            "Epoch 1/20\n",
            "214/214 [==============================] - 86s 403ms/step - loss: 8.7042 - acc: 0.9708 - val_loss: 2.8989 - val_acc: 0.5878\n",
            "Epoch 2/20\n",
            "214/214 [==============================] - 53s 250ms/step - loss: 0.0798 - acc: 0.9934 - val_loss: 0.6227 - val_acc: 0.9224\n",
            "Epoch 3/20\n",
            "214/214 [==============================] - 53s 250ms/step - loss: 0.0433 - acc: 0.9988 - val_loss: 0.0161 - val_acc: 1.0000\n",
            "Epoch 4/20\n",
            "214/214 [==============================] - 53s 248ms/step - loss: 0.0152 - acc: 0.9999 - val_loss: 0.0103 - val_acc: 1.0000\n",
            "Epoch 5/20\n",
            "214/214 [==============================] - 53s 250ms/step - loss: 0.0287 - acc: 0.9988 - val_loss: 0.9658 - val_acc: 0.9348\n",
            "Epoch 6/20\n",
            "214/214 [==============================] - 53s 249ms/step - loss: 0.4786 - acc: 0.9666 - val_loss: 0.0621 - val_acc: 0.9867\n",
            "Epoch 7/20\n",
            "214/214 [==============================] - 53s 249ms/step - loss: 0.0852 - acc: 0.9946 - val_loss: 1.6483 - val_acc: 0.6131\n"
          ],
          "name": "stdout"
        }
      ]
    },
    {
      "cell_type": "code",
      "metadata": {
        "id": "jWENAKWiMJhk",
        "colab_type": "code",
        "colab": {
          "base_uri": "https://localhost:8080/",
          "height": 479
        },
        "outputId": "8d01ecec-fcac-4068-8e25-23eb52817c9e"
      },
      "source": [
        "func1('glorot_uniform', 'zeros', l1(0.1), None,1,20)"
      ],
      "execution_count": 33,
      "outputs": [
        {
          "output_type": "stream",
          "text": [
            "/usr/local/lib/python3.6/dist-packages/keras_applications/mobilenet.py:208: UserWarning: MobileNet shape is undefined. Weights for input shape (224, 224) will be loaded.\n",
            "  warnings.warn('MobileNet shape is undefined.'\n"
          ],
          "name": "stderr"
        },
        {
          "output_type": "stream",
          "text": [
            "Epoch 1/20\n",
            "214/214 [==============================] - 90s 419ms/step - loss: 273.7446 - acc: 0.9329 - val_loss: 14.9462 - val_acc: 0.7356\n",
            "Epoch 2/20\n",
            "214/214 [==============================] - 54s 253ms/step - loss: 14.3637 - acc: 0.9159 - val_loss: 15.0107 - val_acc: 0.9468\n",
            "Epoch 3/20\n",
            "214/214 [==============================] - 54s 251ms/step - loss: 14.5122 - acc: 0.9206 - val_loss: 14.4729 - val_acc: 0.7360\n",
            "Epoch 4/20\n",
            "214/214 [==============================] - 54s 252ms/step - loss: 14.6738 - acc: 0.9011 - val_loss: 14.7309 - val_acc: 0.8602\n",
            "Epoch 5/20\n",
            "214/214 [==============================] - 54s 251ms/step - loss: 13.7740 - acc: 0.9274 - val_loss: 15.6973 - val_acc: 0.8980\n",
            "Epoch 6/20\n",
            "214/214 [==============================] - 54s 251ms/step - loss: 14.5156 - acc: 0.9146 - val_loss: 13.1549 - val_acc: 0.9437\n",
            "Epoch 7/20\n",
            "214/214 [==============================] - 54s 252ms/step - loss: 13.7604 - acc: 0.9270 - val_loss: 13.5606 - val_acc: 0.9299\n",
            "Epoch 8/20\n",
            "214/214 [==============================] - 54s 251ms/step - loss: 14.1227 - acc: 0.9156 - val_loss: 14.9766 - val_acc: 0.2529\n",
            "Epoch 9/20\n",
            "214/214 [==============================] - 54s 252ms/step - loss: 13.6654 - acc: 0.9230 - val_loss: 12.8618 - val_acc: 0.9463\n",
            "Epoch 10/20\n",
            "214/214 [==============================] - 54s 252ms/step - loss: 13.6127 - acc: 0.9265 - val_loss: 14.1009 - val_acc: 0.9454\n",
            "Epoch 11/20\n",
            "214/214 [==============================] - 54s 250ms/step - loss: 13.2800 - acc: 0.9252 - val_loss: 12.9568 - val_acc: 0.8811\n",
            "Epoch 12/20\n",
            "214/214 [==============================] - 54s 252ms/step - loss: 14.5101 - acc: 0.9324 - val_loss: 13.4325 - val_acc: 0.9463\n"
          ],
          "name": "stdout"
        }
      ]
    },
    {
      "cell_type": "code",
      "metadata": {
        "id": "ySxMVjq7Quv1",
        "colab_type": "code",
        "colab": {
          "base_uri": "https://localhost:8080/",
          "height": 445
        },
        "outputId": "c0b81a7b-3e7d-416b-b39e-1d5732710a00"
      },
      "source": [
        "func1('glorot_uniform', 'zeros', None, None,0.9,20)"
      ],
      "execution_count": 34,
      "outputs": [
        {
          "output_type": "stream",
          "text": [
            "/usr/local/lib/python3.6/dist-packages/keras_applications/mobilenet.py:208: UserWarning: MobileNet shape is undefined. Weights for input shape (224, 224) will be loaded.\n",
            "  warnings.warn('MobileNet shape is undefined.'\n"
          ],
          "name": "stderr"
        },
        {
          "output_type": "stream",
          "text": [
            "Epoch 1/20\n",
            "214/214 [==============================] - 93s 434ms/step - loss: 0.0928 - acc: 0.9782 - val_loss: 0.0167 - val_acc: 0.9965\n",
            "Epoch 2/20\n",
            "214/214 [==============================] - 55s 256ms/step - loss: 0.0472 - acc: 0.9867 - val_loss: 1.9611 - val_acc: 0.7418\n",
            "Epoch 3/20\n",
            "214/214 [==============================] - 54s 251ms/step - loss: 0.0203 - acc: 0.9940 - val_loss: 0.1103 - val_acc: 0.9672\n",
            "Epoch 4/20\n",
            "214/214 [==============================] - 54s 253ms/step - loss: 3.0425e-04 - acc: 1.0000 - val_loss: 9.8497e-04 - val_acc: 0.9996\n",
            "Epoch 5/20\n",
            "214/214 [==============================] - 54s 252ms/step - loss: 0.0119 - acc: 0.9963 - val_loss: 9.5081e-04 - val_acc: 1.0000\n",
            "Epoch 6/20\n",
            "214/214 [==============================] - 54s 252ms/step - loss: 0.0083 - acc: 0.9981 - val_loss: 0.0011 - val_acc: 0.9996\n",
            "Epoch 7/20\n",
            "214/214 [==============================] - 54s 252ms/step - loss: 9.7928e-05 - acc: 1.0000 - val_loss: 7.2368e-07 - val_acc: 1.0000\n",
            "Epoch 8/20\n",
            "214/214 [==============================] - 54s 252ms/step - loss: 3.3488e-05 - acc: 1.0000 - val_loss: 5.8373e-07 - val_acc: 1.0000\n",
            "Epoch 9/20\n",
            "214/214 [==============================] - 54s 251ms/step - loss: 0.0079 - acc: 0.9980 - val_loss: 0.0436 - val_acc: 0.9858\n",
            "Epoch 10/20\n",
            "214/214 [==============================] - 54s 252ms/step - loss: 0.0365 - acc: 0.9879 - val_loss: 0.6520 - val_acc: 0.8492\n",
            "Epoch 11/20\n",
            "214/214 [==============================] - 54s 251ms/step - loss: 0.0058 - acc: 0.9974 - val_loss: 8.0782e-04 - val_acc: 0.9996\n"
          ],
          "name": "stdout"
        }
      ]
    },
    {
      "cell_type": "code",
      "metadata": {
        "id": "xza6yjbQUQmL",
        "colab_type": "code",
        "colab": {
          "base_uri": "https://localhost:8080/",
          "height": 411
        },
        "outputId": "93130c5b-55bb-4db2-a1a0-e3d4d989d1c9"
      },
      "source": [
        "func1('glorot_uniform', 'zeros', None, None,0.75,20)"
      ],
      "execution_count": 35,
      "outputs": [
        {
          "output_type": "stream",
          "text": [
            "/usr/local/lib/python3.6/dist-packages/keras_applications/mobilenet.py:208: UserWarning: MobileNet shape is undefined. Weights for input shape (224, 224) will be loaded.\n",
            "  warnings.warn('MobileNet shape is undefined.'\n"
          ],
          "name": "stderr"
        },
        {
          "output_type": "stream",
          "text": [
            "Epoch 1/20\n",
            "214/214 [==============================] - 95s 445ms/step - loss: 0.0949 - acc: 0.9782 - val_loss: 7.2342e-05 - val_acc: 1.0000\n",
            "Epoch 2/20\n",
            "214/214 [==============================] - 55s 258ms/step - loss: 0.0515 - acc: 0.9895 - val_loss: 1.7251e-05 - val_acc: 1.0000\n",
            "Epoch 3/20\n",
            "214/214 [==============================] - 55s 257ms/step - loss: 0.0013 - acc: 0.9996 - val_loss: 4.2113e-05 - val_acc: 1.0000\n",
            "Epoch 4/20\n",
            "214/214 [==============================] - 55s 257ms/step - loss: 2.7356e-04 - acc: 0.9999 - val_loss: 3.6436e-04 - val_acc: 1.0000\n",
            "Epoch 5/20\n",
            "214/214 [==============================] - 55s 257ms/step - loss: 5.7043e-05 - acc: 1.0000 - val_loss: 1.0295e-06 - val_acc: 1.0000\n",
            "Epoch 6/20\n",
            "214/214 [==============================] - 55s 257ms/step - loss: 1.4250e-05 - acc: 1.0000 - val_loss: 6.3283e-07 - val_acc: 1.0000\n",
            "Epoch 7/20\n",
            "214/214 [==============================] - 55s 257ms/step - loss: 7.9393e-06 - acc: 1.0000 - val_loss: 4.7116e-07 - val_acc: 1.0000\n",
            "Epoch 8/20\n",
            "214/214 [==============================] - 55s 257ms/step - loss: 0.0597 - acc: 0.9832 - val_loss: 11.3771 - val_acc: 0.2653\n",
            "Epoch 9/20\n",
            "214/214 [==============================] - 55s 257ms/step - loss: 0.0112 - acc: 0.9965 - val_loss: 9.9261e-05 - val_acc: 1.0000\n",
            "Epoch 10/20\n",
            "214/214 [==============================] - 55s 257ms/step - loss: 0.0412 - acc: 0.9886 - val_loss: 0.0519 - val_acc: 0.9858\n"
          ],
          "name": "stdout"
        }
      ]
    },
    {
      "cell_type": "code",
      "metadata": {
        "id": "9HvxpC4oW_DA",
        "colab_type": "code",
        "colab": {
          "base_uri": "https://localhost:8080/",
          "height": 241
        },
        "outputId": "4b1f1803-35c6-4e7d-e2c2-7a8c759d625d"
      },
      "source": [
        "func1('glorot_uniform', 'zeros', None, None,1.1,20)"
      ],
      "execution_count": 36,
      "outputs": [
        {
          "output_type": "stream",
          "text": [
            "/usr/local/lib/python3.6/dist-packages/keras_applications/mobilenet.py:208: UserWarning: MobileNet shape is undefined. Weights for input shape (224, 224) will be loaded.\n",
            "  warnings.warn('MobileNet shape is undefined.'\n"
          ],
          "name": "stderr"
        },
        {
          "output_type": "stream",
          "text": [
            "Epoch 1/20\n",
            "214/214 [==============================] - 100s 465ms/step - loss: 0.0807 - acc: 0.9772 - val_loss: 0.0918 - val_acc: 0.9752\n",
            "Epoch 2/20\n",
            "214/214 [==============================] - 57s 264ms/step - loss: 0.0229 - acc: 0.9925 - val_loss: 0.0194 - val_acc: 0.9956\n",
            "Epoch 3/20\n",
            "214/214 [==============================] - 56s 262ms/step - loss: 0.0243 - acc: 0.9940 - val_loss: 0.0641 - val_acc: 0.9814\n",
            "Epoch 4/20\n",
            "214/214 [==============================] - 56s 263ms/step - loss: 0.0218 - acc: 0.9953 - val_loss: 0.1769 - val_acc: 0.9658\n",
            "Epoch 5/20\n",
            "214/214 [==============================] - 56s 262ms/step - loss: 0.0248 - acc: 0.9913 - val_loss: 0.2647 - val_acc: 0.9215\n"
          ],
          "name": "stdout"
        }
      ]
    },
    {
      "cell_type": "code",
      "metadata": {
        "id": "syGDUXC9dquO",
        "colab_type": "code",
        "colab": {
          "base_uri": "https://localhost:8080/",
          "height": 326
        },
        "outputId": "49f7ac01-eac4-4db8-826e-b195e6784416"
      },
      "source": [
        "kini='RandomNormal'\n",
        "bini='zeros'\n",
        "kreg=None\n",
        "breg=None\n",
        "alpha=0.75\n",
        "ep=20\n",
        "\n",
        "base_model=keras.applications.mobilenet.MobileNet(weights='imagenet',include_top=False) \n",
        "  #imports the mobilenet model and discards the last neuron layer and uses the already trained weights\n",
        "\n",
        "x=base_model.output\n",
        "x=GlobalAveragePooling2D()(x)\n",
        "x=Dense(1024,activation='relu',kernel_initializer=kini, bias_initializer=bini, kernel_regularizer=kreg, bias_regularizer=breg )(x) #we add dense layers so that the model can learn more complex functions and classify for better results.\n",
        "preds=Dense(4,activation='softmax')(x) #final layer with softmax activation and 4 classes\n",
        "  \n",
        "model=Model(inputs=base_model.input,outputs=preds)\n",
        "model.compile(optimizer='Adam',loss='categorical_crossentropy',metrics=['accuracy'])\n",
        "step_size_train=train_generator.n//train_generator.batch_size\n",
        "step_size_validation=validation_generator.n//train_generator.batch_size\n",
        "model.fit_generator(generator=train_generator,\n",
        "                      validation_data=validation_generator,\n",
        "                      validation_steps=step_size_validation,\n",
        "                      steps_per_epoch=step_size_train,\n",
        "                      epochs=ep,\n",
        "                      callbacks=[EarlyStopping(monitor='val_loss', min_delta=0, patience=3, verbose=0, mode='auto', baseline=None, restore_best_weights=True)]\n",
        "                     )\n"
      ],
      "execution_count": 21,
      "outputs": [
        {
          "output_type": "stream",
          "text": [
            "/usr/local/lib/python3.6/dist-packages/keras_applications/mobilenet.py:208: UserWarning: MobileNet shape is undefined. Weights for input shape (224, 224) will be loaded.\n",
            "  warnings.warn('MobileNet shape is undefined.'\n"
          ],
          "name": "stderr"
        },
        {
          "output_type": "stream",
          "text": [
            "Epoch 1/20\n",
            "214/214 [==============================] - 69s 324ms/step - loss: 0.0820 - acc: 0.9793 - val_loss: 0.2620 - val_acc: 0.9468\n",
            "Epoch 2/20\n",
            "214/214 [==============================] - 52s 244ms/step - loss: 0.0658 - acc: 0.9852 - val_loss: 9.7779e-04 - val_acc: 0.9996\n",
            "Epoch 3/20\n",
            "214/214 [==============================] - 52s 244ms/step - loss: 0.0015 - acc: 0.9996 - val_loss: 1.2325e-06 - val_acc: 1.0000\n",
            "Epoch 4/20\n",
            "214/214 [==============================] - 52s 245ms/step - loss: 3.7721e-05 - acc: 1.0000 - val_loss: 3.6633e-07 - val_acc: 1.0000\n",
            "Epoch 5/20\n",
            "214/214 [==============================] - 52s 245ms/step - loss: 0.0845 - acc: 0.9798 - val_loss: 0.0886 - val_acc: 0.9752\n",
            "Epoch 6/20\n",
            "214/214 [==============================] - 52s 244ms/step - loss: 3.6070e-04 - acc: 1.0000 - val_loss: 6.3151e-06 - val_acc: 1.0000\n",
            "Epoch 7/20\n",
            "214/214 [==============================] - 52s 244ms/step - loss: 0.0114 - acc: 0.9982 - val_loss: 0.3850 - val_acc: 0.8829\n"
          ],
          "name": "stdout"
        },
        {
          "output_type": "execute_result",
          "data": {
            "text/plain": [
              "<keras.callbacks.History at 0x7f6e8fe8c0b8>"
            ]
          },
          "metadata": {
            "tags": []
          },
          "execution_count": 21
        }
      ]
    },
    {
      "cell_type": "code",
      "metadata": {
        "id": "m1Sf5WnKylne",
        "colab_type": "code",
        "colab": {
          "base_uri": "https://localhost:8080/",
          "height": 51
        },
        "outputId": "ef181bfc-1a25-4c8e-8c66-79aacec9a416"
      },
      "source": [
        "print(model.metrics_names)\n",
        "#evaluate_generator(generator, steps=None, callbacks=None, max_queue_size=10, workers=1, use_multiprocessing=False, verbose=0)\n",
        "print(model.evaluate_generator(generator=test_generator,steps=test_generator.n//test_generator.batch_size))"
      ],
      "execution_count": 22,
      "outputs": [
        {
          "output_type": "stream",
          "text": [
            "['loss', 'acc']\n",
            "[0.0032685854725554736, 0.9980053191489362]\n"
          ],
          "name": "stdout"
        }
      ]
    },
    {
      "cell_type": "code",
      "metadata": {
        "id": "cqEssGFiplvE",
        "colab_type": "code",
        "colab": {
          "base_uri": "https://localhost:8080/",
          "height": 530
        },
        "outputId": "35b20143-94ab-4bba-c86a-b78050036c4e"
      },
      "source": [
        "kini='glorot_uniform'\n",
        "bini='zeros'\n",
        "kreg=None\n",
        "breg=None\n",
        "alpha=1\n",
        "ep=20\n",
        "\n",
        "base_model=keras.applications.mobilenet.MobileNet(weights='imagenet',include_top=False) \n",
        "  #imports the mobilenet model and discards the last neuron layer and uses the already trained weights\n",
        "\n",
        "x=base_model.output\n",
        "x=GlobalAveragePooling2D()(x)\n",
        "x=Dense(1024,activation='relu',kernel_initializer=kini, bias_initializer=bini, kernel_regularizer=kreg, bias_regularizer=breg )(x) #we add dense layers so that the model can learn more complex functions and classify for better results.\n",
        "preds=Dense(4,activation='softmax')(x) #final layer with softmax activation and 4 classes\n",
        "  \n",
        "model=Model(inputs=base_model.input,outputs=preds)\n",
        "model.compile(optimizer='Adam',loss='categorical_crossentropy',metrics=['accuracy'])\n",
        "step_size_train=train_generator.n//train_generator.batch_size\n",
        "step_size_validation=validation_generator.n//train_generator.batch_size\n",
        "model.fit_generator(generator=train_generator,\n",
        "                      validation_data=validation_generator,\n",
        "                      validation_steps=step_size_validation,\n",
        "                      steps_per_epoch=step_size_train,\n",
        "                      epochs=ep,\n",
        "                      callbacks=[EarlyStopping(monitor='val_loss', min_delta=0, patience=3, verbose=0, mode='auto', baseline=None, restore_best_weights=True)]\n",
        "                     )\n"
      ],
      "execution_count": 17,
      "outputs": [
        {
          "output_type": "stream",
          "text": [
            "/usr/local/lib/python3.6/dist-packages/keras_applications/mobilenet.py:208: UserWarning: MobileNet shape is undefined. Weights for input shape (224, 224) will be loaded.\n",
            "  warnings.warn('MobileNet shape is undefined.'\n"
          ],
          "name": "stderr"
        },
        {
          "output_type": "stream",
          "text": [
            "Epoch 1/20\n",
            "214/214 [==============================] - 63s 292ms/step - loss: 0.4676 - acc: 0.9527 - val_loss: 2.3899 - val_acc: 0.7955\n",
            "Epoch 2/20\n",
            "214/214 [==============================] - 52s 241ms/step - loss: 0.0271 - acc: 0.9934 - val_loss: 0.0039 - val_acc: 0.9987\n",
            "Epoch 3/20\n",
            "214/214 [==============================] - 52s 241ms/step - loss: 0.0192 - acc: 0.9953 - val_loss: 2.2186 - val_acc: 0.5741\n",
            "Epoch 4/20\n",
            "214/214 [==============================] - 52s 242ms/step - loss: 0.0168 - acc: 0.9947 - val_loss: 0.0207 - val_acc: 0.9916\n",
            "Epoch 5/20\n",
            "214/214 [==============================] - 52s 241ms/step - loss: 0.0236 - acc: 0.9940 - val_loss: 6.6948e-05 - val_acc: 1.0000\n",
            "Epoch 6/20\n",
            "214/214 [==============================] - 52s 241ms/step - loss: 0.0099 - acc: 0.9969 - val_loss: 0.0023 - val_acc: 0.9996\n",
            "Epoch 7/20\n",
            "214/214 [==============================] - 52s 241ms/step - loss: 0.0011 - acc: 0.9994 - val_loss: 2.9094e-06 - val_acc: 1.0000\n",
            "Epoch 8/20\n",
            "214/214 [==============================] - 51s 240ms/step - loss: 2.0802e-04 - acc: 1.0000 - val_loss: 1.4420e-06 - val_acc: 1.0000\n",
            "Epoch 9/20\n",
            "214/214 [==============================] - 52s 241ms/step - loss: 2.1024e-05 - acc: 1.0000 - val_loss: 9.0431e-07 - val_acc: 1.0000\n",
            "Epoch 10/20\n",
            "214/214 [==============================] - 51s 240ms/step - loss: 6.7455e-05 - acc: 1.0000 - val_loss: 3.3235e-07 - val_acc: 1.0000\n",
            "Epoch 11/20\n",
            "214/214 [==============================] - 52s 241ms/step - loss: 0.0198 - acc: 0.9940 - val_loss: 1.5695 - val_acc: 0.8700\n",
            "Epoch 12/20\n",
            "214/214 [==============================] - 51s 241ms/step - loss: 0.0051 - acc: 0.9985 - val_loss: 0.0038 - val_acc: 0.9987\n",
            "Epoch 13/20\n",
            "214/214 [==============================] - 52s 241ms/step - loss: 0.0356 - acc: 0.9899 - val_loss: 1.0784 - val_acc: 0.8540\n"
          ],
          "name": "stdout"
        },
        {
          "output_type": "execute_result",
          "data": {
            "text/plain": [
              "<keras.callbacks.History at 0x7f6e9d222a90>"
            ]
          },
          "metadata": {
            "tags": []
          },
          "execution_count": 17
        }
      ]
    },
    {
      "cell_type": "code",
      "metadata": {
        "id": "XhZmSuzCp0Nf",
        "colab_type": "code",
        "colab": {
          "base_uri": "https://localhost:8080/",
          "height": 51
        },
        "outputId": "927f07df-a7f8-444d-d814-9b84850f171b"
      },
      "source": [
        "print(model.metrics_names)\n",
        "#evaluate_generator(generator, steps=None, callbacks=None, max_queue_size=10, workers=1, use_multiprocessing=False, verbose=0)\n",
        "print(model.evaluate_generator(generator=test_generator,steps=test_generator.n//test_generator.batch_size))"
      ],
      "execution_count": 18,
      "outputs": [
        {
          "output_type": "stream",
          "text": [
            "['loss', 'acc']\n",
            "[0.0006312949559770384, 1.0]\n"
          ],
          "name": "stdout"
        }
      ]
    },
    {
      "cell_type": "code",
      "metadata": {
        "id": "9rt8wO6NssPi",
        "colab_type": "code",
        "colab": {
          "base_uri": "https://localhost:8080/",
          "height": 768
        },
        "outputId": "a53be43d-73f3-4fd5-f680-9bb2d5c0ce71"
      },
      "source": [
        "kini='glorot_uniform'\n",
        "bini='zeros'\n",
        "kreg=None\n",
        "breg=None\n",
        "alpha=1\n",
        "ep=20\n",
        "\n",
        "base_model=keras.applications.mobilenet.MobileNet(weights='imagenet',include_top=False) \n",
        "  #imports the mobilenet model and discards the last neuron layer and uses the already trained weights\n",
        "\n",
        "x=base_model.output\n",
        "x=GlobalAveragePooling2D()(x)\n",
        "x=Dense(1024,activation='relu',kernel_initializer=kini, bias_initializer=bini, kernel_regularizer=kreg, bias_regularizer=breg )(x) #we add dense layers so that the model can learn more complex functions and classify for better results.\n",
        "preds=Dense(4,activation='softmax')(x) #final layer with softmax activation and 4 classes\n",
        "  \n",
        "model=Model(inputs=base_model.input,outputs=preds)\n",
        "model.compile(optimizer=Adam(lr=0.0001),loss='categorical_crossentropy',metrics=['accuracy'])\n",
        "step_size_train=train_generator.n//train_generator.batch_size\n",
        "step_size_validation=validation_generator.n//train_generator.batch_size\n",
        "model.fit_generator(generator=train_generator,\n",
        "                      validation_data=validation_generator,\n",
        "                      validation_steps=step_size_validation,\n",
        "                      steps_per_epoch=step_size_train,\n",
        "                      epochs=ep,\n",
        "                      callbacks=[EarlyStopping(monitor='val_loss', min_delta=0, patience=3, verbose=0, mode='auto', baseline=None, restore_best_weights=True)]\n",
        "                     )"
      ],
      "execution_count": 24,
      "outputs": [
        {
          "output_type": "stream",
          "text": [
            "/usr/local/lib/python3.6/dist-packages/keras_applications/mobilenet.py:208: UserWarning: MobileNet shape is undefined. Weights for input shape (224, 224) will be loaded.\n",
            "  warnings.warn('MobileNet shape is undefined.'\n"
          ],
          "name": "stderr"
        },
        {
          "output_type": "stream",
          "text": [
            "Epoch 1/20\n",
            "214/214 [==============================] - 74s 344ms/step - loss: 0.0514 - acc: 0.9829 - val_loss: 2.0854e-04 - val_acc: 1.0000\n",
            "Epoch 2/20\n",
            "214/214 [==============================] - 53s 249ms/step - loss: 7.2327e-04 - acc: 1.0000 - val_loss: 1.0283e-04 - val_acc: 1.0000\n",
            "Epoch 3/20\n",
            "214/214 [==============================] - 53s 249ms/step - loss: 3.3654e-04 - acc: 1.0000 - val_loss: 3.0211e-05 - val_acc: 1.0000\n",
            "Epoch 4/20\n",
            "214/214 [==============================] - 53s 246ms/step - loss: 1.3843e-04 - acc: 1.0000 - val_loss: 1.9695e-05 - val_acc: 1.0000\n",
            "Epoch 5/20\n",
            "214/214 [==============================] - 53s 246ms/step - loss: 1.9018e-04 - acc: 1.0000 - val_loss: 1.4494e-05 - val_acc: 1.0000\n",
            "Epoch 6/20\n",
            "214/214 [==============================] - 53s 246ms/step - loss: 1.2768e-04 - acc: 1.0000 - val_loss: 1.0665e-05 - val_acc: 1.0000\n",
            "Epoch 7/20\n",
            "214/214 [==============================] - 53s 246ms/step - loss: 5.7005e-05 - acc: 1.0000 - val_loss: 5.0027e-06 - val_acc: 1.0000\n",
            "Epoch 8/20\n",
            "214/214 [==============================] - 53s 246ms/step - loss: 4.9354e-05 - acc: 1.0000 - val_loss: 3.2665e-06 - val_acc: 1.0000\n",
            "Epoch 9/20\n",
            "214/214 [==============================] - 53s 246ms/step - loss: 2.8031e-05 - acc: 1.0000 - val_loss: 2.3209e-06 - val_acc: 1.0000\n",
            "Epoch 10/20\n",
            "214/214 [==============================] - 53s 246ms/step - loss: 1.6866e-05 - acc: 1.0000 - val_loss: 1.6379e-06 - val_acc: 1.0000\n",
            "Epoch 11/20\n",
            "214/214 [==============================] - 53s 246ms/step - loss: 5.3350e-05 - acc: 1.0000 - val_loss: 2.0385e-06 - val_acc: 1.0000\n",
            "Epoch 12/20\n",
            "214/214 [==============================] - 53s 246ms/step - loss: 2.0711e-05 - acc: 1.0000 - val_loss: 1.1577e-06 - val_acc: 1.0000\n",
            "Epoch 13/20\n",
            "214/214 [==============================] - 53s 246ms/step - loss: 8.1310e-06 - acc: 1.0000 - val_loss: 9.0531e-07 - val_acc: 1.0000\n",
            "Epoch 14/20\n",
            "214/214 [==============================] - 53s 246ms/step - loss: 3.7254e-05 - acc: 1.0000 - val_loss: 1.2942e-06 - val_acc: 1.0000\n",
            "Epoch 15/20\n",
            "214/214 [==============================] - 53s 246ms/step - loss: 1.0165e-05 - acc: 1.0000 - val_loss: 8.3083e-07 - val_acc: 1.0000\n",
            "Epoch 16/20\n",
            "214/214 [==============================] - 52s 245ms/step - loss: 2.6953e-05 - acc: 1.0000 - val_loss: 8.7025e-07 - val_acc: 1.0000\n",
            "Epoch 17/20\n",
            "214/214 [==============================] - 53s 246ms/step - loss: 1.3457e-05 - acc: 1.0000 - val_loss: 4.4848e-07 - val_acc: 1.0000\n",
            "Epoch 18/20\n",
            "214/214 [==============================] - 52s 245ms/step - loss: 4.2772e-06 - acc: 1.0000 - val_loss: 3.4409e-07 - val_acc: 1.0000\n",
            "Epoch 19/20\n",
            "214/214 [==============================] - 53s 245ms/step - loss: 1.2137e-05 - acc: 1.0000 - val_loss: 2.9501e-07 - val_acc: 1.0000\n",
            "Epoch 20/20\n",
            "214/214 [==============================] - 52s 245ms/step - loss: 7.4888e-06 - acc: 1.0000 - val_loss: 2.6835e-07 - val_acc: 1.0000\n"
          ],
          "name": "stdout"
        },
        {
          "output_type": "execute_result",
          "data": {
            "text/plain": [
              "<keras.callbacks.History at 0x7f6e89581470>"
            ]
          },
          "metadata": {
            "tags": []
          },
          "execution_count": 24
        }
      ]
    },
    {
      "cell_type": "code",
      "metadata": {
        "id": "lN0meyvFy5cF",
        "colab_type": "code",
        "colab": {
          "base_uri": "https://localhost:8080/",
          "height": 51
        },
        "outputId": "3526a973-9521-42d9-bb88-4c06edd0f32c"
      },
      "source": [
        "print(model.metrics_names)\n",
        "#evaluate_generator(generator, steps=None, callbacks=None, max_queue_size=10, workers=1, use_multiprocessing=False, verbose=0)\n",
        "print(model.evaluate_generator(generator=test_generator,steps=test_generator.n//test_generator.batch_size))"
      ],
      "execution_count": 25,
      "outputs": [
        {
          "output_type": "stream",
          "text": [
            "['loss', 'acc']\n",
            "[0.003790959681868373, 0.9983377659574468]\n"
          ],
          "name": "stdout"
        }
      ]
    },
    {
      "cell_type": "code",
      "metadata": {
        "id": "63nUAeAK4tYR",
        "colab_type": "code",
        "colab": {}
      },
      "source": [
        ""
      ],
      "execution_count": 0,
      "outputs": []
    }
  ]
}